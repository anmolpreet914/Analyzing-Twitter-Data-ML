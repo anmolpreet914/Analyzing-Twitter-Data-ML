{
 "cells": [
  {
   "cell_type": "code",
   "execution_count": 52,
   "metadata": {},
   "outputs": [
    {
     "name": "stderr",
     "output_type": "stream",
     "text": [
      "[nltk_data] Downloading package stopwords to\n",
      "[nltk_data]     C:\\Users\\admin\\AppData\\Roaming\\nltk_data...\n",
      "[nltk_data]   Package stopwords is already up-to-date!\n",
      "[nltk_data] Downloading package punkt to\n",
      "[nltk_data]     C:\\Users\\admin\\AppData\\Roaming\\nltk_data...\n",
      "[nltk_data]   Package punkt is already up-to-date!\n"
     ]
    },
    {
     "data": {
      "text/plain": [
       "True"
      ]
     },
     "execution_count": 52,
     "metadata": {},
     "output_type": "execute_result"
    }
   ],
   "source": [
    "#importing the libraries\n",
    "import pandas as pd\n",
    "import numpy as np\n",
    "import matplotlib.pyplot as plt\n",
    "import seaborn as sns\n",
    "\n",
    "import nltk\n",
    "from nltk.corpus import stopwords\n",
    "from nltk.tokenize import word_tokenize\n",
    "from nltk.stem.wordnet import WordNetLemmatizer\n",
    "\n",
    "nltk.download('stopwords')\n",
    "nltk.download('punkt')\n",
    "\n",
    "import re\n"
   ]
  },
  {
   "cell_type": "code",
   "execution_count": 210,
   "metadata": {},
   "outputs": [],
   "source": [
    "#loading the dataset\n",
    "df=pd.read_csv('cleaned_translation_data_1.csv')"
   ]
  },
  {
   "cell_type": "code",
   "execution_count": 211,
   "metadata": {},
   "outputs": [
    {
     "data": {
      "text/html": [
       "<div>\n",
       "<style scoped>\n",
       "    .dataframe tbody tr th:only-of-type {\n",
       "        vertical-align: middle;\n",
       "    }\n",
       "\n",
       "    .dataframe tbody tr th {\n",
       "        vertical-align: top;\n",
       "    }\n",
       "\n",
       "    .dataframe thead th {\n",
       "        text-align: right;\n",
       "    }\n",
       "</style>\n",
       "<table border=\"1\" class=\"dataframe\">\n",
       "  <thead>\n",
       "    <tr style=\"text-align: right;\">\n",
       "      <th></th>\n",
       "      <th>Unnamed: 0</th>\n",
       "      <th>Gender</th>\n",
       "      <th>Country</th>\n",
       "      <th>Hour</th>\n",
       "      <th>Day</th>\n",
       "      <th>Weekday</th>\n",
       "      <th>IsReshare</th>\n",
       "      <th>Reach</th>\n",
       "      <th>RetweetCount</th>\n",
       "      <th>Likes</th>\n",
       "      <th>Klout</th>\n",
       "      <th>Sentiment</th>\n",
       "      <th>Lang</th>\n",
       "      <th>text</th>\n",
       "      <th>clean_text</th>\n",
       "      <th>translated_text</th>\n",
       "      <th>valid_words</th>\n",
       "    </tr>\n",
       "  </thead>\n",
       "  <tbody>\n",
       "    <tr>\n",
       "      <th>0</th>\n",
       "      <td>0</td>\n",
       "      <td>Unknown</td>\n",
       "      <td>Albania</td>\n",
       "      <td>7</td>\n",
       "      <td>12</td>\n",
       "      <td>Friday</td>\n",
       "      <td>True</td>\n",
       "      <td>339.0</td>\n",
       "      <td>127.0</td>\n",
       "      <td>0.0</td>\n",
       "      <td>44.0</td>\n",
       "      <td>0.0</td>\n",
       "      <td>en</td>\n",
       "      <td>\"RT @AdrianRusso82: Our Innovation Lab is officially open! Click below to learn more! https://www.linkedin.com/pulse/new-innovation-lab-open-business-adrian-russo-msis-mcp?utm_source&amp;utm_medium&amp;utm_campaign #Tech #JavaScript #AWS http\"</td>\n",
       "      <td>our innovation lab officially open click learn tech java script a w s</td>\n",
       "      <td>our innovation lab officially open click learn tech java script a w s</td>\n",
       "      <td>['innovation', 'lab', 'officially', 'open', 'click', 'learn', 'tech', 'script', 'w']</td>\n",
       "    </tr>\n",
       "    <tr>\n",
       "      <th>1</th>\n",
       "      <td>1</td>\n",
       "      <td>Male</td>\n",
       "      <td>Albania</td>\n",
       "      <td>11</td>\n",
       "      <td>7</td>\n",
       "      <td>Thursday</td>\n",
       "      <td>False</td>\n",
       "      <td>87.0</td>\n",
       "      <td>0.0</td>\n",
       "      <td>0.0</td>\n",
       "      <td>22.0</td>\n",
       "      <td>0.0</td>\n",
       "      <td>en</td>\n",
       "      <td>Now Open  AWS Asia Pacific (Seoul) Region via /r/sysadmin https://www.reddit.com/r/sysadmin/comments/3zvciv/now_open_aws_asia_pacific_seoul_region/ http://twitter.com/besmirzanaj/status/685159757209059329/photo/1</td>\n",
       "      <td>now open aws asia pacific seoul region via aresysadmin</td>\n",
       "      <td>now open aws asia pacific seoul region via aresysadmin</td>\n",
       "      <td>['open', 'pacific', 'region', 'via']</td>\n",
       "    </tr>\n",
       "    <tr>\n",
       "      <th>2</th>\n",
       "      <td>2</td>\n",
       "      <td>Male</td>\n",
       "      <td>Albania</td>\n",
       "      <td>6</td>\n",
       "      <td>12</td>\n",
       "      <td>Tuesday</td>\n",
       "      <td>False</td>\n",
       "      <td>87.0</td>\n",
       "      <td>0.0</td>\n",
       "      <td>0.0</td>\n",
       "      <td>22.0</td>\n",
       "      <td>0.0</td>\n",
       "      <td>en</td>\n",
       "      <td>A Beginner's Guide to Scaling to 11 Million+ Users on Amazon's AWS via /r/sysadmin https://www.reddit.com/r/sysadmin/comments/40hon7/a_beginners_guide_to_scaling_to_11_million_users/ http://twitter.com/besmirzanaj/status/686907710311378944/photo/1</td>\n",
       "      <td>a beginners guide scaling million users amazons aws via aresysadmin</td>\n",
       "      <td>a beginners guide scaling million users amazons aws via aresysadmin</td>\n",
       "      <td>['guide', 'scaling', 'million', 'via']</td>\n",
       "    </tr>\n",
       "    <tr>\n",
       "      <th>3</th>\n",
       "      <td>3</td>\n",
       "      <td>Male</td>\n",
       "      <td>Albania</td>\n",
       "      <td>10</td>\n",
       "      <td>12</td>\n",
       "      <td>Tuesday</td>\n",
       "      <td>False</td>\n",
       "      <td>87.0</td>\n",
       "      <td>0.0</td>\n",
       "      <td>0.0</td>\n",
       "      <td>22.0</td>\n",
       "      <td>0.0</td>\n",
       "      <td>en</td>\n",
       "      <td>Bridging AWS and Azure environments via VPN via /r/sysadmin https://www.reddit.com/r/sysadmin/comments/40mdc4/bridging_aws_and_azure_environments_via_vpn/ http://twitter.com/besmirzanaj/status/686968158050201600/photo/1</td>\n",
       "      <td>bridging aws azure environments via vpn via aresysadmin</td>\n",
       "      <td>bridging aws azure environments via vpn via aresysadmin</td>\n",
       "      <td>['bridging', 'azure', 'via', 'via']</td>\n",
       "    </tr>\n",
       "    <tr>\n",
       "      <th>4</th>\n",
       "      <td>4</td>\n",
       "      <td>Male</td>\n",
       "      <td>Albania</td>\n",
       "      <td>9</td>\n",
       "      <td>21</td>\n",
       "      <td>Thursday</td>\n",
       "      <td>False</td>\n",
       "      <td>85.0</td>\n",
       "      <td>0.0</td>\n",
       "      <td>0.0</td>\n",
       "      <td>21.0</td>\n",
       "      <td>0.0</td>\n",
       "      <td>en</td>\n",
       "      <td>ELK on AWS ElasticSearch Service + ElasticBeanstalk + Laravel via /r/sysadmin https://www.reddit.com/r/sysadmin/comments/41x9hy/elk_on_aws_elasticsearch_service_elasticbeanstalk/ http://twitter.com/besmirzanaj/status/690210449674092545/photo/1</td>\n",
       "      <td>elk aws elasticsearch service elasticbeanstalk laravel via aresysadmin</td>\n",
       "      <td>elk aws elasticsearch service elasticbeanstalk laravel via aresysadmin</td>\n",
       "      <td>['elk', 'service', 'via']</td>\n",
       "    </tr>\n",
       "  </tbody>\n",
       "</table>\n",
       "</div>"
      ],
      "text/plain": [
       "   Unnamed: 0   Gender  Country  Hour  Day   Weekday  IsReshare  Reach  RetweetCount  Likes  Klout  Sentiment Lang                                                                                                                                                                                                                                                     text                                                              clean_text                                                         translated_text                                                                           valid_words\n",
       "0           0  Unknown  Albania     7   12    Friday       True  339.0         127.0    0.0   44.0        0.0   en              \"RT @AdrianRusso82: Our Innovation Lab is officially open! Click below to learn more! https://www.linkedin.com/pulse/new-innovation-lab-open-business-adrian-russo-msis-mcp?utm_source&utm_medium&utm_campaign #Tech #JavaScript #AWS http\"   our innovation lab officially open click learn tech java script a w s   our innovation lab officially open click learn tech java script a w s  ['innovation', 'lab', 'officially', 'open', 'click', 'learn', 'tech', 'script', 'w']\n",
       "1           1     Male  Albania    11    7  Thursday      False   87.0           0.0    0.0   22.0        0.0   en                                     Now Open  AWS Asia Pacific (Seoul) Region via /r/sysadmin https://www.reddit.com/r/sysadmin/comments/3zvciv/now_open_aws_asia_pacific_seoul_region/ http://twitter.com/besmirzanaj/status/685159757209059329/photo/1                  now open aws asia pacific seoul region via aresysadmin                  now open aws asia pacific seoul region via aresysadmin                                                  ['open', 'pacific', 'region', 'via']\n",
       "2           2     Male  Albania     6   12   Tuesday      False   87.0           0.0    0.0   22.0        0.0   en  A Beginner's Guide to Scaling to 11 Million+ Users on Amazon's AWS via /r/sysadmin https://www.reddit.com/r/sysadmin/comments/40hon7/a_beginners_guide_to_scaling_to_11_million_users/ http://twitter.com/besmirzanaj/status/686907710311378944/photo/1     a beginners guide scaling million users amazons aws via aresysadmin     a beginners guide scaling million users amazons aws via aresysadmin                                                ['guide', 'scaling', 'million', 'via']\n",
       "3           3     Male  Albania    10   12   Tuesday      False   87.0           0.0    0.0   22.0        0.0   en                              Bridging AWS and Azure environments via VPN via /r/sysadmin https://www.reddit.com/r/sysadmin/comments/40mdc4/bridging_aws_and_azure_environments_via_vpn/ http://twitter.com/besmirzanaj/status/686968158050201600/photo/1                 bridging aws azure environments via vpn via aresysadmin                 bridging aws azure environments via vpn via aresysadmin                                                   ['bridging', 'azure', 'via', 'via']\n",
       "4           4     Male  Albania     9   21  Thursday      False   85.0           0.0    0.0   21.0        0.0   en      ELK on AWS ElasticSearch Service + ElasticBeanstalk + Laravel via /r/sysadmin https://www.reddit.com/r/sysadmin/comments/41x9hy/elk_on_aws_elasticsearch_service_elasticbeanstalk/ http://twitter.com/besmirzanaj/status/690210449674092545/photo/1  elk aws elasticsearch service elasticbeanstalk laravel via aresysadmin  elk aws elasticsearch service elasticbeanstalk laravel via aresysadmin                                                             ['elk', 'service', 'via']"
      ]
     },
     "execution_count": 211,
     "metadata": {},
     "output_type": "execute_result"
    }
   ],
   "source": [
    "df.head()"
   ]
  },
  {
   "cell_type": "code",
   "execution_count": 212,
   "metadata": {},
   "outputs": [],
   "source": [
    "# dropping columns\n",
    "df.drop(['Unnamed: 0'],axis=1,inplace=True)"
   ]
  },
  {
   "cell_type": "code",
   "execution_count": 213,
   "metadata": {},
   "outputs": [
    {
     "data": {
      "text/html": [
       "<div>\n",
       "<style scoped>\n",
       "    .dataframe tbody tr th:only-of-type {\n",
       "        vertical-align: middle;\n",
       "    }\n",
       "\n",
       "    .dataframe tbody tr th {\n",
       "        vertical-align: top;\n",
       "    }\n",
       "\n",
       "    .dataframe thead th {\n",
       "        text-align: right;\n",
       "    }\n",
       "</style>\n",
       "<table border=\"1\" class=\"dataframe\">\n",
       "  <thead>\n",
       "    <tr style=\"text-align: right;\">\n",
       "      <th></th>\n",
       "      <th>Gender</th>\n",
       "      <th>Country</th>\n",
       "      <th>Hour</th>\n",
       "      <th>Day</th>\n",
       "      <th>Weekday</th>\n",
       "      <th>IsReshare</th>\n",
       "      <th>Reach</th>\n",
       "      <th>RetweetCount</th>\n",
       "      <th>Likes</th>\n",
       "      <th>Klout</th>\n",
       "      <th>Sentiment</th>\n",
       "      <th>Lang</th>\n",
       "      <th>text</th>\n",
       "      <th>clean_text</th>\n",
       "      <th>translated_text</th>\n",
       "      <th>valid_words</th>\n",
       "    </tr>\n",
       "  </thead>\n",
       "  <tbody>\n",
       "    <tr>\n",
       "      <th>0</th>\n",
       "      <td>Unknown</td>\n",
       "      <td>Albania</td>\n",
       "      <td>7</td>\n",
       "      <td>12</td>\n",
       "      <td>Friday</td>\n",
       "      <td>True</td>\n",
       "      <td>339.0</td>\n",
       "      <td>127.0</td>\n",
       "      <td>0.0</td>\n",
       "      <td>44.0</td>\n",
       "      <td>0.0</td>\n",
       "      <td>en</td>\n",
       "      <td>\"RT @AdrianRusso82: Our Innovation Lab is officially open! Click below to learn more! https://www.linkedin.com/pulse/new-innovation-lab-open-business-adrian-russo-msis-mcp?utm_source&amp;utm_medium&amp;utm_campaign #Tech #JavaScript #AWS http\"</td>\n",
       "      <td>our innovation lab officially open click learn tech java script a w s</td>\n",
       "      <td>our innovation lab officially open click learn tech java script a w s</td>\n",
       "      <td>['innovation', 'lab', 'officially', 'open', 'click', 'learn', 'tech', 'script', 'w']</td>\n",
       "    </tr>\n",
       "    <tr>\n",
       "      <th>1</th>\n",
       "      <td>Male</td>\n",
       "      <td>Albania</td>\n",
       "      <td>11</td>\n",
       "      <td>7</td>\n",
       "      <td>Thursday</td>\n",
       "      <td>False</td>\n",
       "      <td>87.0</td>\n",
       "      <td>0.0</td>\n",
       "      <td>0.0</td>\n",
       "      <td>22.0</td>\n",
       "      <td>0.0</td>\n",
       "      <td>en</td>\n",
       "      <td>Now Open  AWS Asia Pacific (Seoul) Region via /r/sysadmin https://www.reddit.com/r/sysadmin/comments/3zvciv/now_open_aws_asia_pacific_seoul_region/ http://twitter.com/besmirzanaj/status/685159757209059329/photo/1</td>\n",
       "      <td>now open aws asia pacific seoul region via aresysadmin</td>\n",
       "      <td>now open aws asia pacific seoul region via aresysadmin</td>\n",
       "      <td>['open', 'pacific', 'region', 'via']</td>\n",
       "    </tr>\n",
       "    <tr>\n",
       "      <th>2</th>\n",
       "      <td>Male</td>\n",
       "      <td>Albania</td>\n",
       "      <td>6</td>\n",
       "      <td>12</td>\n",
       "      <td>Tuesday</td>\n",
       "      <td>False</td>\n",
       "      <td>87.0</td>\n",
       "      <td>0.0</td>\n",
       "      <td>0.0</td>\n",
       "      <td>22.0</td>\n",
       "      <td>0.0</td>\n",
       "      <td>en</td>\n",
       "      <td>A Beginner's Guide to Scaling to 11 Million+ Users on Amazon's AWS via /r/sysadmin https://www.reddit.com/r/sysadmin/comments/40hon7/a_beginners_guide_to_scaling_to_11_million_users/ http://twitter.com/besmirzanaj/status/686907710311378944/photo/1</td>\n",
       "      <td>a beginners guide scaling million users amazons aws via aresysadmin</td>\n",
       "      <td>a beginners guide scaling million users amazons aws via aresysadmin</td>\n",
       "      <td>['guide', 'scaling', 'million', 'via']</td>\n",
       "    </tr>\n",
       "    <tr>\n",
       "      <th>3</th>\n",
       "      <td>Male</td>\n",
       "      <td>Albania</td>\n",
       "      <td>10</td>\n",
       "      <td>12</td>\n",
       "      <td>Tuesday</td>\n",
       "      <td>False</td>\n",
       "      <td>87.0</td>\n",
       "      <td>0.0</td>\n",
       "      <td>0.0</td>\n",
       "      <td>22.0</td>\n",
       "      <td>0.0</td>\n",
       "      <td>en</td>\n",
       "      <td>Bridging AWS and Azure environments via VPN via /r/sysadmin https://www.reddit.com/r/sysadmin/comments/40mdc4/bridging_aws_and_azure_environments_via_vpn/ http://twitter.com/besmirzanaj/status/686968158050201600/photo/1</td>\n",
       "      <td>bridging aws azure environments via vpn via aresysadmin</td>\n",
       "      <td>bridging aws azure environments via vpn via aresysadmin</td>\n",
       "      <td>['bridging', 'azure', 'via', 'via']</td>\n",
       "    </tr>\n",
       "    <tr>\n",
       "      <th>4</th>\n",
       "      <td>Male</td>\n",
       "      <td>Albania</td>\n",
       "      <td>9</td>\n",
       "      <td>21</td>\n",
       "      <td>Thursday</td>\n",
       "      <td>False</td>\n",
       "      <td>85.0</td>\n",
       "      <td>0.0</td>\n",
       "      <td>0.0</td>\n",
       "      <td>21.0</td>\n",
       "      <td>0.0</td>\n",
       "      <td>en</td>\n",
       "      <td>ELK on AWS ElasticSearch Service + ElasticBeanstalk + Laravel via /r/sysadmin https://www.reddit.com/r/sysadmin/comments/41x9hy/elk_on_aws_elasticsearch_service_elasticbeanstalk/ http://twitter.com/besmirzanaj/status/690210449674092545/photo/1</td>\n",
       "      <td>elk aws elasticsearch service elasticbeanstalk laravel via aresysadmin</td>\n",
       "      <td>elk aws elasticsearch service elasticbeanstalk laravel via aresysadmin</td>\n",
       "      <td>['elk', 'service', 'via']</td>\n",
       "    </tr>\n",
       "  </tbody>\n",
       "</table>\n",
       "</div>"
      ],
      "text/plain": [
       "    Gender  Country  Hour  Day   Weekday  IsReshare  Reach  RetweetCount  Likes  Klout  Sentiment Lang                                                                                                                                                                                                                                                     text                                                              clean_text                                                         translated_text                                                                           valid_words\n",
       "0  Unknown  Albania     7   12    Friday       True  339.0         127.0    0.0   44.0        0.0   en              \"RT @AdrianRusso82: Our Innovation Lab is officially open! Click below to learn more! https://www.linkedin.com/pulse/new-innovation-lab-open-business-adrian-russo-msis-mcp?utm_source&utm_medium&utm_campaign #Tech #JavaScript #AWS http\"   our innovation lab officially open click learn tech java script a w s   our innovation lab officially open click learn tech java script a w s  ['innovation', 'lab', 'officially', 'open', 'click', 'learn', 'tech', 'script', 'w']\n",
       "1     Male  Albania    11    7  Thursday      False   87.0           0.0    0.0   22.0        0.0   en                                     Now Open  AWS Asia Pacific (Seoul) Region via /r/sysadmin https://www.reddit.com/r/sysadmin/comments/3zvciv/now_open_aws_asia_pacific_seoul_region/ http://twitter.com/besmirzanaj/status/685159757209059329/photo/1                  now open aws asia pacific seoul region via aresysadmin                  now open aws asia pacific seoul region via aresysadmin                                                  ['open', 'pacific', 'region', 'via']\n",
       "2     Male  Albania     6   12   Tuesday      False   87.0           0.0    0.0   22.0        0.0   en  A Beginner's Guide to Scaling to 11 Million+ Users on Amazon's AWS via /r/sysadmin https://www.reddit.com/r/sysadmin/comments/40hon7/a_beginners_guide_to_scaling_to_11_million_users/ http://twitter.com/besmirzanaj/status/686907710311378944/photo/1     a beginners guide scaling million users amazons aws via aresysadmin     a beginners guide scaling million users amazons aws via aresysadmin                                                ['guide', 'scaling', 'million', 'via']\n",
       "3     Male  Albania    10   12   Tuesday      False   87.0           0.0    0.0   22.0        0.0   en                              Bridging AWS and Azure environments via VPN via /r/sysadmin https://www.reddit.com/r/sysadmin/comments/40mdc4/bridging_aws_and_azure_environments_via_vpn/ http://twitter.com/besmirzanaj/status/686968158050201600/photo/1                 bridging aws azure environments via vpn via aresysadmin                 bridging aws azure environments via vpn via aresysadmin                                                   ['bridging', 'azure', 'via', 'via']\n",
       "4     Male  Albania     9   21  Thursday      False   85.0           0.0    0.0   21.0        0.0   en      ELK on AWS ElasticSearch Service + ElasticBeanstalk + Laravel via /r/sysadmin https://www.reddit.com/r/sysadmin/comments/41x9hy/elk_on_aws_elasticsearch_service_elasticbeanstalk/ http://twitter.com/besmirzanaj/status/690210449674092545/photo/1  elk aws elasticsearch service elasticbeanstalk laravel via aresysadmin  elk aws elasticsearch service elasticbeanstalk laravel via aresysadmin                                                             ['elk', 'service', 'via']"
      ]
     },
     "execution_count": 213,
     "metadata": {},
     "output_type": "execute_result"
    }
   ],
   "source": [
    "df.head()"
   ]
  },
  {
   "cell_type": "code",
   "execution_count": 214,
   "metadata": {},
   "outputs": [
    {
     "data": {
      "text/plain": [
       "Lang\n",
       "en    93428\n",
       "es     1812\n",
       "fr     1097\n",
       "_u      925\n",
       "tr      899\n",
       "ja      676\n",
       "de      570\n",
       "in      427\n",
       "tl      421\n",
       "ko      365\n",
       "pt      239\n",
       "nl      174\n",
       "it      148\n",
       "zh      124\n",
       "th       81\n",
       "pl       78\n",
       "cs       74\n",
       "ru       57\n",
       "fi       51\n",
       "et       42\n",
       "ro       35\n",
       "cy       29\n",
       "ht       29\n",
       "da       28\n",
       "sv       28\n",
       "ar       22\n",
       "hu       20\n",
       "no       13\n",
       "lt        8\n",
       "lv        6\n",
       "hi        3\n",
       "iw        2\n",
       "sl        2\n",
       "uk        2\n",
       "eu        1\n",
       "km        1\n",
       "Name: count, dtype: int64"
      ]
     },
     "execution_count": 214,
     "metadata": {},
     "output_type": "execute_result"
    }
   ],
   "source": [
    "df['Lang'].value_counts()"
   ]
  },
  {
   "cell_type": "code",
   "execution_count": 215,
   "metadata": {},
   "outputs": [
    {
     "data": {
      "text/plain": [
       "(101917, 16)"
      ]
     },
     "execution_count": 215,
     "metadata": {},
     "output_type": "execute_result"
    }
   ],
   "source": [
    "df.shape"
   ]
  },
  {
   "cell_type": "markdown",
   "metadata": {},
   "source": [
    "#### At this point we are decided to drop the rows by using `Lang` column which are not translated in english as most of them are translated in it."
   ]
  },
  {
   "cell_type": "code",
   "execution_count": 216,
   "metadata": {},
   "outputs": [],
   "source": [
    "# List of substrings to remove\n",
    "substrings_to_remove = ['_u','es', 'ht','in','it','ja','nl','pt','ro','tl','tr','zh']\n",
    "# Create a regex pattern to match any of the substrings\n",
    "pattern = '|'.join(substrings_to_remove)\n",
    "# Remove rows where 'Lang' contains any of the substrings\n",
    "df = df[~df['Lang'].str.contains(pattern)]"
   ]
  },
  {
   "cell_type": "code",
   "execution_count": 217,
   "metadata": {},
   "outputs": [
    {
     "data": {
      "text/plain": [
       "(96008, 16)"
      ]
     },
     "execution_count": 217,
     "metadata": {},
     "output_type": "execute_result"
    }
   ],
   "source": [
    "df.shape"
   ]
  },
  {
   "cell_type": "markdown",
   "metadata": {},
   "source": [
    "# Data Engineering"
   ]
  },
  {
   "cell_type": "code",
   "execution_count": 218,
   "metadata": {},
   "outputs": [],
   "source": [
    "# Define the pattern to remove sequences of single characters separated by spaces and any non-word characters\n",
    "pattern = r'\\b(?:\\w\\s*){1,3}\\b|\\W+'\n",
    "\n",
    "# Custom function to clean text\n",
    "def clean_text(text):\n",
    "    if not isinstance(text, str):\n",
    "        text = str(text) if text is not None else ''\n",
    "    # Replace specific patterns with a space\n",
    "    cleaned_text = re.sub(pattern, ' ', text)\n",
    "    # Remove any extra spaces\n",
    "    cleaned_text = re.sub(r'\\s+', ' ', cleaned_text).strip()\n",
    "    return cleaned_text\n",
    "\n",
    "# Apply the custom function to the 'clean_text' column\n",
    "df['clean_text'] = df['clean_text'].apply(clean_text)\n",
    "df['translated_text'] = df['translated_text'].apply(clean_text)"
   ]
  },
  {
   "cell_type": "code",
   "execution_count": 219,
   "metadata": {},
   "outputs": [
    {
     "name": "stdout",
     "output_type": "stream",
     "text": [
      "         Gender   Country  Hour  Day    Weekday  IsReshare   Reach  RetweetCount  Likes  Klout  Sentiment Lang                                                                                                                                                                                                                                                                                                                                                               text                                                                         clean_text                                                                    translated_text                                                                           valid_words                                                                                    tokenize_text\n",
      "0       Unknown   Albania     7   12     Friday       True   339.0         127.0    0.0   44.0        0.0   en                                                                                                                        \"RT @AdrianRusso82: Our Innovation Lab is officially open! Click below to learn more! https://www.linkedin.com/pulse/new-innovation-lab-open-business-adrian-russo-msis-mcp?utm_source&utm_medium&utm_campaign #Tech #JavaScript #AWS http\"                            innovation officially open click learn tech java script                            innovation officially open click learn tech java script  ['innovation', 'lab', 'officially', 'open', 'click', 'learn', 'tech', 'script', 'w']                                 [innovation, officially, open, click, learn, tech, java, script]\n",
      "1          Male   Albania    11    7   Thursday      False    87.0           0.0    0.0   22.0        0.0   en                                                                                                                                               Now Open  AWS Asia Pacific (Seoul) Region via /r/sysadmin https://www.reddit.com/r/sysadmin/comments/3zvciv/now_open_aws_asia_pacific_seoul_region/ http://twitter.com/besmirzanaj/status/685159757209059329/photo/1                                         open asia pacific seoul region aresysadmin                                         open asia pacific seoul region aresysadmin                                                  ['open', 'pacific', 'region', 'via']                                                [open, asia, pacific, seoul, region, aresysadmin]\n",
      "2          Male   Albania     6   12    Tuesday      False    87.0           0.0    0.0   22.0        0.0   en                                                                                                            A Beginner's Guide to Scaling to 11 Million+ Users on Amazon's AWS via /r/sysadmin https://www.reddit.com/r/sysadmin/comments/40hon7/a_beginners_guide_to_scaling_to_11_million_users/ http://twitter.com/besmirzanaj/status/686907710311378944/photo/1                          beginners guide scaling million users amazons aresysadmin                          beginners guide scaling million users amazons aresysadmin                                                ['guide', 'scaling', 'million', 'via']                                [beginners, guide, scaling, million, users, amazons, aresysadmin]\n",
      "3          Male   Albania    10   12    Tuesday      False    87.0           0.0    0.0   22.0        0.0   en                                                                                                                                        Bridging AWS and Azure environments via VPN via /r/sysadmin https://www.reddit.com/r/sysadmin/comments/40mdc4/bridging_aws_and_azure_environments_via_vpn/ http://twitter.com/besmirzanaj/status/686968158050201600/photo/1                                            bridging azure environments aresysadmin                                            bridging azure environments aresysadmin                                                   ['bridging', 'azure', 'via', 'via']                                                     [bridging, azure, environments, aresysadmin]\n",
      "4          Male   Albania     9   21   Thursday      False    85.0           0.0    0.0   21.0        0.0   en                                                                                                                ELK on AWS ElasticSearch Service + ElasticBeanstalk + Laravel via /r/sysadmin https://www.reddit.com/r/sysadmin/comments/41x9hy/elk_on_aws_elasticsearch_service_elasticbeanstalk/ http://twitter.com/besmirzanaj/status/690210449674092545/photo/1                         elasticsearch service elasticbeanstalk laravel aresysadmin                         elasticsearch service elasticbeanstalk laravel aresysadmin                                                             ['elk', 'service', 'via']                                 [elasticsearch, service, elasticbeanstalk, laravel, aresysadmin]\n",
      "...         ...       ...   ...  ...        ...        ...     ...           ...    ...    ...        ...  ...                                                                                                                                                                                                                                                                                                                                                                ...                                                                                ...                                                                                ...                                                                                   ...                                                                                              ...\n",
      "101912     Male  Zimbabwe    10    7     Sunday       True  1203.0           3.0    0.0   44.0        3.0   en                                                                                                                                                                                                                         RT @Springcoil: Does anyone have a good workflow for using AWS for data science tasks. I spend more time setting things up these days than  does anyone good workflow using data science tasks spend time setting things days  does anyone good workflow using data science tasks spend time setting things days             ['anyone', 'good', 'data', 'science', 'spend', 'time', 'setting', 'days']  [does, anyone, good, workflow, using, data, science, tasks, spend, time, setting, things, days]\n",
      "101913  Unknown  Zimbabwe     5   12    Tuesday       True   976.0         102.0    0.0   31.0        0.0   en                                                                                                                                                                                                                          RT @linuxacademyCOM: AWS CSA Associate and Professional training available with labs study guides and quizzes! First month just $9! https    associate professional training available labs study guides quizzes first month    associate professional training available labs study guides quizzes first month     ['associate', 'professional', 'training', 'available', 'study', 'first', 'month']       [associate, professional, training, available, labs, study, guides, quizzes, first, month]\n",
      "101914  Unknown  Zimbabwe     0   15    Tuesday      False  4876.0           0.0    0.0   49.0        1.0   en                                                                                                                                                                         Curious @benthompson does this change your opinion on AWS being more efficient than Dropbox running own cloud http://www.wired.com/2016/03/epic-story-dropboxs-exodus-amazon-cloud-empire/                             curious change opinion efficient dropbox running cloud                             curious change opinion efficient dropbox running cloud                     ['curious', 'change', 'opinion', 'efficient', 'running', 'cloud']                                   [curious, change, opinion, efficient, dropbox, running, cloud]\n",
      "101915   Unisex  Zimbabwe     8    2  Wednesday       True   188.0           5.0    0.0   37.0        0.0   en  RT @awscloud: New on the AWS Startup Blog - What Startups Should Know Before Choosing a CDN: https://medium.com/aws-activate-startup-blog/what-startups-should-know-before-choosing-a-cdn-a4926066fc5a?adbsc=startups_20160302_58844876&adbid=705053057881518081&adbpl=tw&adbpr=66780587#.90ax9uf1u http://twitter.com/awscloud/status/705053057881518081/photo/1                   startup blog what startups should know before choosing canadians                   startup blog what startups should know before choosing canadians                                                           ['new', 'know', 'choosing']                       [startup, blog, what, startups, should, know, before, choosing, canadians]\n",
      "101916  Unknown  Zimbabwe    12   21     Sunday       True   199.0           3.0    0.0   23.0        0.0   en                                                             RT @ICTAfrica1: 15 Top Paying IT Certifications In 2016: AWS Certified Solutions Architect Leads http://www.forbes.com/sites/louiscolumbus/2016/02/21/15-top-paying-it-certifications-in-2016-aws-certified-solutions-architect-leads-at-125k/?utm_source=dlvr.it&utm_medium=twitter #ictafrica https:                          paying certifications certified solutions architect leads                          paying certifications certified solutions architect leads                                           ['top', 'paying', 'certified', 'architect']                                 [paying, certifications, certified, solutions, architect, leads]\n",
      "\n",
      "[96008 rows x 17 columns]\n"
     ]
    }
   ],
   "source": [
    "# Function to tokenize the text\n",
    "def tokenize_text(text):\n",
    "    if isinstance(text, str):  # Check if the text is a string\n",
    "        tokens = word_tokenize(text)\n",
    "        return tokens\n",
    "    else:\n",
    "        return []  # Return an empty list for non-string values\n",
    "\n",
    "# Apply the function to the 'translated_text' column\n",
    "df['tokenize_text'] = df['translated_text'].apply(tokenize_text)\n",
    "df"
   ]
  },
  {
   "cell_type": "code",
   "execution_count": 220,
   "metadata": {},
   "outputs": [],
   "source": [
    "# dropping columns\n",
    "df.drop(['Gender','Country','Hour','Day','Weekday','IsReshare','Reach','RetweetCount','Likes','Klout','Lang','text','valid_words'],axis=1,inplace=True)"
   ]
  },
  {
   "cell_type": "markdown",
   "metadata": {},
   "source": [
    "In `Sentiment` column, the values are not well defined. So, We are dividing them into 3 categories and then applying mapping."
   ]
  },
  {
   "cell_type": "code",
   "execution_count": 221,
   "metadata": {},
   "outputs": [],
   "source": [
    "# the values are not well defined. So, We are dividing them into 3 categories and then applying mapping.\n",
    "df['Mood'] = df['Sentiment'].apply(lambda x: \n",
    "                                       ('Positive' if x > 0 \n",
    "                                             else ('Neutral' if x == 0 \n",
    "                                                   else  'Negative')))"
   ]
  },
  {
   "cell_type": "code",
   "execution_count": 222,
   "metadata": {},
   "outputs": [],
   "source": [
    "# Define a custom mapping for Mood to numerical values\n",
    "mood_mapping = {\n",
    "    'Neutral': 0,\n",
    "    'Positive': 1,\n",
    "    'Negative': 2\n",
    "}\n",
    "\n",
    "# Apply the custom mapping to create the 'Mood_Encoded' column\n",
    "df['Mood'] = df['Mood'].map(mood_mapping)"
   ]
  },
  {
   "cell_type": "code",
   "execution_count": 223,
   "metadata": {},
   "outputs": [],
   "source": [
    "# Handle missing values by replacing NaNs with an empty string\n",
    "df['translated_text'] = df['translated_text'].fillna('')\n",
    "\n",
    "# Convert non-string values to string\n",
    "df['translated_text'] = df['translated_text'].astype(str)"
   ]
  },
  {
   "cell_type": "code",
   "execution_count": 224,
   "metadata": {},
   "outputs": [],
   "source": [
    "df.drop('Sentiment',axis=1,inplace=True)"
   ]
  },
  {
   "cell_type": "code",
   "execution_count": 225,
   "metadata": {},
   "outputs": [
    {
     "data": {
      "text/plain": [
       "(96008, 4)"
      ]
     },
     "execution_count": 225,
     "metadata": {},
     "output_type": "execute_result"
    }
   ],
   "source": [
    "df.shape"
   ]
  },
  {
   "cell_type": "code",
   "execution_count": 226,
   "metadata": {},
   "outputs": [],
   "source": [
    "df.to_csv(\"final_cleaned_translation_data.csv\",index=True)"
   ]
  },
  {
   "cell_type": "code",
   "execution_count": 233,
   "metadata": {},
   "outputs": [
    {
     "name": "stdout",
     "output_type": "stream",
     "text": [
      "                                                                          translated_text  Mood\n",
      "101912  does anyone good workflow using data science tasks spend time setting things days     1\n",
      "101913    associate professional training available labs study guides quizzes first month     0\n",
      "101914                             curious change opinion efficient dropbox running cloud     1\n",
      "101915                   startup blog what startups should know before choosing canadians     0\n",
      "101916                          paying certifications certified solutions architect leads     0\n",
      "(96008, 4)\n"
     ]
    }
   ],
   "source": [
    "print(df[['translated_text','Mood']].tail())\n",
    "print(df.shape)"
   ]
  }
 ],
 "metadata": {
  "kernelspec": {
   "display_name": "Python 3",
   "language": "python",
   "name": "python3"
  },
  "language_info": {
   "codemirror_mode": {
    "name": "ipython",
    "version": 3
   },
   "file_extension": ".py",
   "mimetype": "text/x-python",
   "name": "python",
   "nbconvert_exporter": "python",
   "pygments_lexer": "ipython3",
   "version": "3.11.3"
  }
 },
 "nbformat": 4,
 "nbformat_minor": 2
}
