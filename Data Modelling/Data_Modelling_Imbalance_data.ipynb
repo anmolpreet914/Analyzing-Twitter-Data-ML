{
  "cells": [
    {
      "cell_type": "markdown",
      "metadata": {
        "id": "NUF89iok56NF"
      },
      "source": [
        "# Libraries"
      ]
    },
    {
      "cell_type": "code",
      "execution_count": null,
      "metadata": {
        "colab": {
          "base_uri": "https://localhost:8080/"
        },
        "id": "JIKQlZWs56NG",
        "outputId": "ee19da31-82d2-47ce-a1b1-02456dfc56df"
      },
      "outputs": [
        {
          "name": "stderr",
          "output_type": "stream",
          "text": [
            "[nltk_data] Downloading package words to /root/nltk_data...\n",
            "[nltk_data]   Unzipping corpora/words.zip.\n",
            "[nltk_data] Downloading package punkt to /root/nltk_data...\n",
            "[nltk_data]   Unzipping tokenizers/punkt.zip.\n"
          ]
        }
      ],
      "source": [
        "# Load libraries\n",
        "import numpy as np\n",
        "import pandas as pd\n",
        "import seaborn as sns\n",
        "import matplotlib.pyplot as plt\n",
        "\n",
        "import nltk\n",
        "from nltk.corpus import words,stopwords\n",
        "from nltk.tokenize import word_tokenize\n",
        "\n",
        "nltk.download('words')\n",
        "nltk.download('punkt')\n",
        "\n",
        "from collections import Counter\n",
        "from sklearn.feature_extraction.text import TfidfVectorizer\n",
        "from sklearn.model_selection import train_test_split, cross_val_score\n",
        "from sklearn.linear_model import LogisticRegression\n",
        "from sklearn.ensemble import RandomForestClassifier\n",
        "from sklearn.svm import SVC\n",
        "from xgboost import XGBClassifier\n",
        "from sklearn.naive_bayes import GaussianNB\n",
        "from sklearn.metrics import (\n",
        "    accuracy_score, f1_score, precision_score, recall_score,\n",
        "    confusion_matrix, roc_auc_score, roc_curve, classification_report,\n",
        "    precision_recall_curve\n",
        ")\n",
        "\n",
        "from imblearn.over_sampling import SMOTE\n",
        "import joblib\n",
        "import matplotlib.cm as cm\n",
        "\n",
        "from wordcloud import WordCloud\n",
        "from sklearn.feature_extraction.text import CountVectorizer\n",
        "\n",
        "from imblearn.pipeline import make_pipeline\n",
        "from sklearn.model_selection import StratifiedKFold\n",
        "from sklearn.ensemble import RandomForestClassifier\n",
        "from sklearn.metrics import precision_score, recall_score, f1_score\n",
        "\n",
        "import xgboost as xgb\n",
        "from sklearn.linear_model import LogisticRegression\n",
        "from imblearn.pipeline import make_pipeline\n"
      ]
    },
    {
      "cell_type": "markdown",
      "metadata": {
        "id": "1MszUA8i56NH"
      },
      "source": [
        "# Importing cleaned datasets"
      ]
    },
    {
      "cell_type": "code",
      "execution_count": null,
      "metadata": {
        "colab": {
          "base_uri": "https://localhost:8080/",
          "height": 310
        },
        "id": "PGwRPKY256NH",
        "outputId": "e8be5be2-7d78-4058-e921-1ddaa39f3086"
      },
      "outputs": [
        {
          "data": {
            "application/vnd.google.colaboratory.intrinsic+json": {
              "summary": "{\n  \"name\": \"df\",\n  \"rows\": 96008,\n  \"fields\": [\n    {\n      \"column\": \"Unnamed: 0\",\n      \"properties\": {\n        \"dtype\": \"number\",\n        \"std\": 29458,\n        \"min\": 0,\n        \"max\": 101916,\n        \"num_unique_values\": 96008,\n        \"samples\": [\n          77778,\n          71080,\n          3033\n        ],\n        \"semantic_type\": \"\",\n        \"description\": \"\"\n      }\n    },\n    {\n      \"column\": \"clean_text\",\n      \"properties\": {\n        \"dtype\": \"category\",\n        \"num_unique_values\": 44675,\n        \"samples\": [\n          \"icymi cindy spiess contributor foundations benchmark\",\n          \"terror suspect aljayab faces federal charges providing material false fictitious statements involving\",\n          \"cloud launches swift runtime opensource lambda competitor github enterprise vmware support mustread\"\n        ],\n        \"semantic_type\": \"\",\n        \"description\": \"\"\n      }\n    },\n    {\n      \"column\": \"translated_text\",\n      \"properties\": {\n        \"dtype\": \"category\",\n        \"num_unique_values\": 44906,\n        \"samples\": [\n          \"first ever setup corporate operational thanks network engineer spirit\",\n          \"news item mware team move cloud thinking fast free\",\n          \"cheapest instance price year unblockus whackamole\"\n        ],\n        \"semantic_type\": \"\",\n        \"description\": \"\"\n      }\n    },\n    {\n      \"column\": \"tokenize_text\",\n      \"properties\": {\n        \"dtype\": \"category\",\n        \"num_unique_values\": 44907,\n        \"samples\": [\n          \"['amazing', 'enthusiast', 'author', 'amazon', 'services', 'action']\",\n          \"['wants', 'move', 'mware', 'cloud', 'prefer', 'fast']\",\n          \"['yeah', 'know', 'even', 'hosting', 'question', 'sshashammer']\"\n        ],\n        \"semantic_type\": \"\",\n        \"description\": \"\"\n      }\n    },\n    {\n      \"column\": \"Mood\",\n      \"properties\": {\n        \"dtype\": \"number\",\n        \"std\": 0,\n        \"min\": 0,\n        \"max\": 2,\n        \"num_unique_values\": 3,\n        \"samples\": [\n          0,\n          1,\n          2\n        ],\n        \"semantic_type\": \"\",\n        \"description\": \"\"\n      }\n    }\n  ]\n}",
              "type": "dataframe",
              "variable_name": "df"
            },
            "text/html": [
              "\n",
              "  <div id=\"df-e77779f3-9eb1-469b-8676-b5a8bb06d0f7\" class=\"colab-df-container\">\n",
              "    <div>\n",
              "<style scoped>\n",
              "    .dataframe tbody tr th:only-of-type {\n",
              "        vertical-align: middle;\n",
              "    }\n",
              "\n",
              "    .dataframe tbody tr th {\n",
              "        vertical-align: top;\n",
              "    }\n",
              "\n",
              "    .dataframe thead th {\n",
              "        text-align: right;\n",
              "    }\n",
              "</style>\n",
              "<table border=\"1\" class=\"dataframe\">\n",
              "  <thead>\n",
              "    <tr style=\"text-align: right;\">\n",
              "      <th></th>\n",
              "      <th>Unnamed: 0</th>\n",
              "      <th>clean_text</th>\n",
              "      <th>translated_text</th>\n",
              "      <th>tokenize_text</th>\n",
              "      <th>Mood</th>\n",
              "    </tr>\n",
              "  </thead>\n",
              "  <tbody>\n",
              "    <tr>\n",
              "      <th>0</th>\n",
              "      <td>0</td>\n",
              "      <td>innovation officially open click learn tech ja...</td>\n",
              "      <td>innovation officially open click learn tech ja...</td>\n",
              "      <td>['innovation', 'officially', 'open', 'click', ...</td>\n",
              "      <td>0</td>\n",
              "    </tr>\n",
              "    <tr>\n",
              "      <th>1</th>\n",
              "      <td>1</td>\n",
              "      <td>open asia pacific seoul region aresysadmin</td>\n",
              "      <td>open asia pacific seoul region aresysadmin</td>\n",
              "      <td>['open', 'asia', 'pacific', 'seoul', 'region',...</td>\n",
              "      <td>0</td>\n",
              "    </tr>\n",
              "    <tr>\n",
              "      <th>2</th>\n",
              "      <td>2</td>\n",
              "      <td>beginners guide scaling million users amazons ...</td>\n",
              "      <td>beginners guide scaling million users amazons ...</td>\n",
              "      <td>['beginners', 'guide', 'scaling', 'million', '...</td>\n",
              "      <td>0</td>\n",
              "    </tr>\n",
              "    <tr>\n",
              "      <th>3</th>\n",
              "      <td>3</td>\n",
              "      <td>bridging azure environments aresysadmin</td>\n",
              "      <td>bridging azure environments aresysadmin</td>\n",
              "      <td>['bridging', 'azure', 'environments', 'aresysa...</td>\n",
              "      <td>0</td>\n",
              "    </tr>\n",
              "    <tr>\n",
              "      <th>4</th>\n",
              "      <td>4</td>\n",
              "      <td>elasticsearch service elasticbeanstalk laravel...</td>\n",
              "      <td>elasticsearch service elasticbeanstalk laravel...</td>\n",
              "      <td>['elasticsearch', 'service', 'elasticbeanstalk...</td>\n",
              "      <td>0</td>\n",
              "    </tr>\n",
              "  </tbody>\n",
              "</table>\n",
              "</div>\n",
              "    <div class=\"colab-df-buttons\">\n",
              "\n",
              "  <div class=\"colab-df-container\">\n",
              "    <button class=\"colab-df-convert\" onclick=\"convertToInteractive('df-e77779f3-9eb1-469b-8676-b5a8bb06d0f7')\"\n",
              "            title=\"Convert this dataframe to an interactive table.\"\n",
              "            style=\"display:none;\">\n",
              "\n",
              "  <svg xmlns=\"http://www.w3.org/2000/svg\" height=\"24px\" viewBox=\"0 -960 960 960\">\n",
              "    <path d=\"M120-120v-720h720v720H120Zm60-500h600v-160H180v160Zm220 220h160v-160H400v160Zm0 220h160v-160H400v160ZM180-400h160v-160H180v160Zm440 0h160v-160H620v160ZM180-180h160v-160H180v160Zm440 0h160v-160H620v160Z\"/>\n",
              "  </svg>\n",
              "    </button>\n",
              "\n",
              "  <style>\n",
              "    .colab-df-container {\n",
              "      display:flex;\n",
              "      gap: 12px;\n",
              "    }\n",
              "\n",
              "    .colab-df-convert {\n",
              "      background-color: #E8F0FE;\n",
              "      border: none;\n",
              "      border-radius: 50%;\n",
              "      cursor: pointer;\n",
              "      display: none;\n",
              "      fill: #1967D2;\n",
              "      height: 32px;\n",
              "      padding: 0 0 0 0;\n",
              "      width: 32px;\n",
              "    }\n",
              "\n",
              "    .colab-df-convert:hover {\n",
              "      background-color: #E2EBFA;\n",
              "      box-shadow: 0px 1px 2px rgba(60, 64, 67, 0.3), 0px 1px 3px 1px rgba(60, 64, 67, 0.15);\n",
              "      fill: #174EA6;\n",
              "    }\n",
              "\n",
              "    .colab-df-buttons div {\n",
              "      margin-bottom: 4px;\n",
              "    }\n",
              "\n",
              "    [theme=dark] .colab-df-convert {\n",
              "      background-color: #3B4455;\n",
              "      fill: #D2E3FC;\n",
              "    }\n",
              "\n",
              "    [theme=dark] .colab-df-convert:hover {\n",
              "      background-color: #434B5C;\n",
              "      box-shadow: 0px 1px 3px 1px rgba(0, 0, 0, 0.15);\n",
              "      filter: drop-shadow(0px 1px 2px rgba(0, 0, 0, 0.3));\n",
              "      fill: #FFFFFF;\n",
              "    }\n",
              "  </style>\n",
              "\n",
              "    <script>\n",
              "      const buttonEl =\n",
              "        document.querySelector('#df-e77779f3-9eb1-469b-8676-b5a8bb06d0f7 button.colab-df-convert');\n",
              "      buttonEl.style.display =\n",
              "        google.colab.kernel.accessAllowed ? 'block' : 'none';\n",
              "\n",
              "      async function convertToInteractive(key) {\n",
              "        const element = document.querySelector('#df-e77779f3-9eb1-469b-8676-b5a8bb06d0f7');\n",
              "        const dataTable =\n",
              "          await google.colab.kernel.invokeFunction('convertToInteractive',\n",
              "                                                    [key], {});\n",
              "        if (!dataTable) return;\n",
              "\n",
              "        const docLinkHtml = 'Like what you see? Visit the ' +\n",
              "          '<a target=\"_blank\" href=https://colab.research.google.com/notebooks/data_table.ipynb>data table notebook</a>'\n",
              "          + ' to learn more about interactive tables.';\n",
              "        element.innerHTML = '';\n",
              "        dataTable['output_type'] = 'display_data';\n",
              "        await google.colab.output.renderOutput(dataTable, element);\n",
              "        const docLink = document.createElement('div');\n",
              "        docLink.innerHTML = docLinkHtml;\n",
              "        element.appendChild(docLink);\n",
              "      }\n",
              "    </script>\n",
              "  </div>\n",
              "\n",
              "\n",
              "<div id=\"df-b5769256-92d9-4d70-b9f2-5149a93e5810\">\n",
              "  <button class=\"colab-df-quickchart\" onclick=\"quickchart('df-b5769256-92d9-4d70-b9f2-5149a93e5810')\"\n",
              "            title=\"Suggest charts\"\n",
              "            style=\"display:none;\">\n",
              "\n",
              "<svg xmlns=\"http://www.w3.org/2000/svg\" height=\"24px\"viewBox=\"0 0 24 24\"\n",
              "     width=\"24px\">\n",
              "    <g>\n",
              "        <path d=\"M19 3H5c-1.1 0-2 .9-2 2v14c0 1.1.9 2 2 2h14c1.1 0 2-.9 2-2V5c0-1.1-.9-2-2-2zM9 17H7v-7h2v7zm4 0h-2V7h2v10zm4 0h-2v-4h2v4z\"/>\n",
              "    </g>\n",
              "</svg>\n",
              "  </button>\n",
              "\n",
              "<style>\n",
              "  .colab-df-quickchart {\n",
              "      --bg-color: #E8F0FE;\n",
              "      --fill-color: #1967D2;\n",
              "      --hover-bg-color: #E2EBFA;\n",
              "      --hover-fill-color: #174EA6;\n",
              "      --disabled-fill-color: #AAA;\n",
              "      --disabled-bg-color: #DDD;\n",
              "  }\n",
              "\n",
              "  [theme=dark] .colab-df-quickchart {\n",
              "      --bg-color: #3B4455;\n",
              "      --fill-color: #D2E3FC;\n",
              "      --hover-bg-color: #434B5C;\n",
              "      --hover-fill-color: #FFFFFF;\n",
              "      --disabled-bg-color: #3B4455;\n",
              "      --disabled-fill-color: #666;\n",
              "  }\n",
              "\n",
              "  .colab-df-quickchart {\n",
              "    background-color: var(--bg-color);\n",
              "    border: none;\n",
              "    border-radius: 50%;\n",
              "    cursor: pointer;\n",
              "    display: none;\n",
              "    fill: var(--fill-color);\n",
              "    height: 32px;\n",
              "    padding: 0;\n",
              "    width: 32px;\n",
              "  }\n",
              "\n",
              "  .colab-df-quickchart:hover {\n",
              "    background-color: var(--hover-bg-color);\n",
              "    box-shadow: 0 1px 2px rgba(60, 64, 67, 0.3), 0 1px 3px 1px rgba(60, 64, 67, 0.15);\n",
              "    fill: var(--button-hover-fill-color);\n",
              "  }\n",
              "\n",
              "  .colab-df-quickchart-complete:disabled,\n",
              "  .colab-df-quickchart-complete:disabled:hover {\n",
              "    background-color: var(--disabled-bg-color);\n",
              "    fill: var(--disabled-fill-color);\n",
              "    box-shadow: none;\n",
              "  }\n",
              "\n",
              "  .colab-df-spinner {\n",
              "    border: 2px solid var(--fill-color);\n",
              "    border-color: transparent;\n",
              "    border-bottom-color: var(--fill-color);\n",
              "    animation:\n",
              "      spin 1s steps(1) infinite;\n",
              "  }\n",
              "\n",
              "  @keyframes spin {\n",
              "    0% {\n",
              "      border-color: transparent;\n",
              "      border-bottom-color: var(--fill-color);\n",
              "      border-left-color: var(--fill-color);\n",
              "    }\n",
              "    20% {\n",
              "      border-color: transparent;\n",
              "      border-left-color: var(--fill-color);\n",
              "      border-top-color: var(--fill-color);\n",
              "    }\n",
              "    30% {\n",
              "      border-color: transparent;\n",
              "      border-left-color: var(--fill-color);\n",
              "      border-top-color: var(--fill-color);\n",
              "      border-right-color: var(--fill-color);\n",
              "    }\n",
              "    40% {\n",
              "      border-color: transparent;\n",
              "      border-right-color: var(--fill-color);\n",
              "      border-top-color: var(--fill-color);\n",
              "    }\n",
              "    60% {\n",
              "      border-color: transparent;\n",
              "      border-right-color: var(--fill-color);\n",
              "    }\n",
              "    80% {\n",
              "      border-color: transparent;\n",
              "      border-right-color: var(--fill-color);\n",
              "      border-bottom-color: var(--fill-color);\n",
              "    }\n",
              "    90% {\n",
              "      border-color: transparent;\n",
              "      border-bottom-color: var(--fill-color);\n",
              "    }\n",
              "  }\n",
              "</style>\n",
              "\n",
              "  <script>\n",
              "    async function quickchart(key) {\n",
              "      const quickchartButtonEl =\n",
              "        document.querySelector('#' + key + ' button');\n",
              "      quickchartButtonEl.disabled = true;  // To prevent multiple clicks.\n",
              "      quickchartButtonEl.classList.add('colab-df-spinner');\n",
              "      try {\n",
              "        const charts = await google.colab.kernel.invokeFunction(\n",
              "            'suggestCharts', [key], {});\n",
              "      } catch (error) {\n",
              "        console.error('Error during call to suggestCharts:', error);\n",
              "      }\n",
              "      quickchartButtonEl.classList.remove('colab-df-spinner');\n",
              "      quickchartButtonEl.classList.add('colab-df-quickchart-complete');\n",
              "    }\n",
              "    (() => {\n",
              "      let quickchartButtonEl =\n",
              "        document.querySelector('#df-b5769256-92d9-4d70-b9f2-5149a93e5810 button');\n",
              "      quickchartButtonEl.style.display =\n",
              "        google.colab.kernel.accessAllowed ? 'block' : 'none';\n",
              "    })();\n",
              "  </script>\n",
              "</div>\n",
              "\n",
              "    </div>\n",
              "  </div>\n"
            ],
            "text/plain": [
              "   Unnamed: 0                                         clean_text  \\\n",
              "0           0  innovation officially open click learn tech ja...   \n",
              "1           1         open asia pacific seoul region aresysadmin   \n",
              "2           2  beginners guide scaling million users amazons ...   \n",
              "3           3            bridging azure environments aresysadmin   \n",
              "4           4  elasticsearch service elasticbeanstalk laravel...   \n",
              "\n",
              "                                     translated_text  \\\n",
              "0  innovation officially open click learn tech ja...   \n",
              "1         open asia pacific seoul region aresysadmin   \n",
              "2  beginners guide scaling million users amazons ...   \n",
              "3            bridging azure environments aresysadmin   \n",
              "4  elasticsearch service elasticbeanstalk laravel...   \n",
              "\n",
              "                                       tokenize_text  Mood  \n",
              "0  ['innovation', 'officially', 'open', 'click', ...     0  \n",
              "1  ['open', 'asia', 'pacific', 'seoul', 'region',...     0  \n",
              "2  ['beginners', 'guide', 'scaling', 'million', '...     0  \n",
              "3  ['bridging', 'azure', 'environments', 'aresysa...     0  \n",
              "4  ['elasticsearch', 'service', 'elasticbeanstalk...     0  "
            ]
          },
          "execution_count": 2,
          "metadata": {},
          "output_type": "execute_result"
        }
      ],
      "source": [
        "# Load cleaned dataset\n",
        "df = pd.read_csv(r\"/content/final_cleaned_translation_data.csv\")\n",
        "\n",
        "# Display the first 5 entries of the DataFrame\n",
        "df.head(5)"
      ]
    },
    {
      "cell_type": "code",
      "execution_count": null,
      "metadata": {
        "colab": {
          "base_uri": "https://localhost:8080/"
        },
        "id": "-Dy1HsnD6fIZ",
        "outputId": "0db6d3d8-ee56-4a49-e391-8ccbdef8d7c3"
      },
      "outputs": [
        {
          "name": "stderr",
          "output_type": "stream",
          "text": [
            "[nltk_data] Downloading package stopwords to /root/nltk_data...\n",
            "[nltk_data]   Unzipping corpora/stopwords.zip.\n"
          ]
        },
        {
          "data": {
            "text/plain": [
              "True"
            ]
          },
          "execution_count": 3,
          "metadata": {},
          "output_type": "execute_result"
        }
      ],
      "source": [
        "import nltk\n",
        "nltk.download('stopwords')"
      ]
    },
    {
      "cell_type": "code",
      "execution_count": null,
      "metadata": {
        "colab": {
          "base_uri": "https://localhost:8080/"
        },
        "id": "V_56b75u56NH",
        "outputId": "5088c522-902b-446d-b519-0b0b9d52ae4c"
      },
      "outputs": [
        {
          "name": "stdout",
          "output_type": "stream",
          "text": [
            "Empty DataFrame\n",
            "Columns: [Unnamed: 0, clean_text, translated_text, tokenize_text, Mood]\n",
            "Index: []\n"
          ]
        }
      ],
      "source": [
        "# Filter and check rows where 'translated_text' is an empty list\n",
        "df_empty = df[df['translated_text'].apply(lambda x: isinstance(x, list) and len(x) == 0)]\n",
        "\n",
        "# Display the filtered rows\n",
        "print(df_empty)\n",
        "\n",
        "# Preprocessing functions\n",
        "def preprocess_text(text):\n",
        "    if not isinstance(text, str):\n",
        "        return \"\"\n",
        "    tokens = nltk.word_tokenize(text)\n",
        "    tokens = [token.lower() for token in tokens if token.isalpha()]\n",
        "    stop_words = set(stopwords.words('english'))\n",
        "    tokens = [token for token in tokens if token not in stop_words]\n",
        "    return \" \".join(tokens)\n",
        "\n",
        "df['translated_text'] = df['translated_text'].apply(preprocess_text)\n",
        "\n",
        "# Remove rows with empty strings or strings containing only '[]'\n",
        "df = df[df['translated_text'].str.strip() != '']\n",
        "df = df[df['translated_text'] != '[]']"
      ]
    },
    {
      "cell_type": "code",
      "execution_count": null,
      "metadata": {
        "colab": {
          "base_uri": "https://localhost:8080/",
          "height": 209
        },
        "id": "uC5FlIBm56NI",
        "outputId": "fab7fbd8-505b-4e53-dc02-37061fc3ad6b"
      },
      "outputs": [
        {
          "data": {
            "text/html": [
              "<table border=\"1\" class=\"dataframe\">\n",
              "  <thead>\n",
              "    <tr style=\"text-align: right;\">\n",
              "      <th></th>\n",
              "      <th>count</th>\n",
              "    </tr>\n",
              "    <tr>\n",
              "      <th>Mood</th>\n",
              "      <th></th>\n",
              "    </tr>\n",
              "  </thead>\n",
              "  <tbody>\n",
              "    <tr>\n",
              "      <th>0</th>\n",
              "      <td>63917</td>\n",
              "    </tr>\n",
              "    <tr>\n",
              "      <th>1</th>\n",
              "      <td>26446</td>\n",
              "    </tr>\n",
              "    <tr>\n",
              "      <th>2</th>\n",
              "      <td>5275</td>\n",
              "    </tr>\n",
              "  </tbody>\n",
              "</table><br><label><b>dtype:</b> int64</label>"
            ],
            "text/plain": [
              "Mood\n",
              "0    63917\n",
              "1    26446\n",
              "2     5275\n",
              "Name: count, dtype: int64"
            ]
          },
          "execution_count": 5,
          "metadata": {},
          "output_type": "execute_result"
        }
      ],
      "source": [
        "df['Mood'].value_counts()"
      ]
    },
    {
      "cell_type": "code",
      "execution_count": null,
      "metadata": {
        "colab": {
          "base_uri": "https://localhost:8080/",
          "height": 619
        },
        "id": "a46_Qj0b56NI",
        "outputId": "fa465059-7daa-45be-b082-a69dc008e85d"
      },
      "outputs": [
        {
          "name": "stderr",
          "output_type": "stream",
          "text": [
            "<ipython-input-6-ca2ddeeb0ee1>:9: MatplotlibDeprecationWarning: The get_cmap function was deprecated in Matplotlib 3.7 and will be removed two minor releases later. Use ``matplotlib.colormaps[name]`` or ``matplotlib.colormaps.get_cmap(obj)`` instead.\n",
            "  cmap = cm.get_cmap('viridis', len(mood_counts))\n"
          ]
        },
        {
          "data": {
            "image/png": "[encoded data removed]",
            "text/plain": [
              "<Figure size 600x600 with 1 Axes>"
            ]
          },
          "metadata": {},
          "output_type": "display_data"
        }
      ],
      "source": [
        "# Count the occurrences of each mood\n",
        "mood_counts = df['Mood'].value_counts().sort_index()\n",
        "\n",
        "# Map the mood numbers to labels\n",
        "mood_labels = {0: 'Neutral', 1: 'Positive', 2: 'Negative'}\n",
        "mood_counts.index = mood_counts.index.map(mood_labels)\n",
        "\n",
        "# Define colors using 'viridis' colormap\n",
        "cmap = cm.get_cmap('viridis', len(mood_counts))\n",
        "colors = [cmap(i) for i in range(len(mood_counts))]\n",
        "\n",
        "# Calculate percentages\n",
        "total_count = mood_counts.sum()\n",
        "mood_percentages = (mood_counts / total_count) * 100\n",
        "\n",
        "# Create a bar plot\n",
        "plt.figure(figsize=(6, 6))\n",
        "bars = plt.bar(mood_counts.index, mood_counts.values, color=colors)\n",
        "plt.title('Sentiment Distribution')\n",
        "plt.xlabel('Mood')\n",
        "plt.ylabel('Count')\n",
        "\n",
        "# Add value annotations on the bars with comma formatting and percentages\n",
        "for bar, percentage in zip(bars, mood_percentages):\n",
        "    height = bar.get_height()\n",
        "    plt.text(bar.get_x() + bar.get_width() / 2., height, f'{int(height):,} ({percentage:.2f}%)',\n",
        "             ha='center', va='bottom')\n",
        "\n",
        "plt.show()"
      ]
    },
    {
      "cell_type": "markdown",
      "metadata": {
        "id": "UuzwtPOw56NI"
      },
      "source": [
        "### Splitting the data to training data and test data\n",
        "- Set stratify=y in train_test_split, it ensures that the class distribution in the training and testing sets is the same as in the original dataset. For example, if your original dataset has 66% 'Neutral', 27% 'Positive', and 15% 'Negative' samples, the training and testing sets will also have approximately the same proportions of these classes.  This helps to ensure that the model is trained and tested on representative samples of the data, avoiding biases that could arise from having different class distributions in the training and testing sets. Avoiding biases means preventing the situation where the model might perform well on some classes but poorly on others due to imbalanced representation in the training or testing data."
      ]
    },
    {
      "cell_type": "markdown",
      "metadata": {
        "id": "kHUfwv5g6_FL"
      },
      "source": [
        "# Data Modelling for imbalanced dataset"
      ]
    },
    {
      "cell_type": "code",
      "execution_count": null,
      "metadata": {
        "colab": {
          "base_uri": "https://localhost:8080/"
        },
        "id": "DpoLEwNA56NI",
        "outputId": "96139b88-baf9-4e34-ea87-4655efdd96f9"
      },
      "outputs": [
        {
          "name": "stdout",
          "output_type": "stream",
          "text": [
            "X_train shape: (76510, 29343)\n",
            "X_test shape: (19128, 29343)\n",
            "y_train shape: (76510,)\n",
            "y_test shape: (19128,)\n"
          ]
        }
      ],
      "source": [
        "# Vectorization\n",
        "tfidf_vectorizer = TfidfVectorizer()\n",
        "X = tfidf_vectorizer.fit_transform(df['translated_text'])\n",
        "y = df['Mood']\n",
        "\n",
        "# Train-test split\n",
        "X_train, X_test, y_train, y_test = train_test_split(X, y, test_size=0.2, stratify=y, random_state=42)\n",
        "\n",
        "\n",
        "# Display shapes of the resulting datasets\n",
        "print(f'X_train shape: {X_train.shape}')\n",
        "print(f'X_test shape: {X_test.shape}')\n",
        "print(f'y_train shape: {y_train.shape}')\n",
        "print(f'y_test shape: {y_test.shape}')\n"
      ]
    },
    {
      "cell_type": "markdown",
      "metadata": {
        "id": "D2Ge1fv256NJ"
      },
      "source": [
        "###  Model training, validation and evaluation procedures"
      ]
    },
    {
      "cell_type": "code",
      "execution_count": null,
      "metadata": {
        "colab": {
          "background_save": true
        },
        "id": "RQLP5uki56NJ",
        "outputId": "5cb3e6f1-6fa5-4ff7-f6f3-403598287350"
      },
      "outputs": [
        {
          "name": "stdout",
          "output_type": "stream",
          "text": [
            "\n",
            "Random Forest Results:\n",
            "Accuracy: 0.9460\n",
            "Precision: 0.9463\n",
            "Recall: 0.9460\n",
            "F1 Score: 0.9445\n",
            "ROC AUC: 0.9839\n",
            "              precision    recall  f1-score   support\n",
            "\n",
            "           0       0.94      0.98      0.96     12784\n",
            "           1       0.95      0.91      0.93      5289\n",
            "           2       0.96      0.69      0.81      1055\n",
            "\n",
            "    accuracy                           0.95     19128\n",
            "   macro avg       0.95      0.86      0.90     19128\n",
            "weighted avg       0.95      0.95      0.94     19128\n",
            "\n",
            "Confusion Matrix:\n",
            "[[12576   188    20]\n",
            " [  491  4788    10]\n",
            " [  257    67   731]]\n"
          ]
        },
        {
          "data": {
            "image/png": "[encoded data removed]",
            "text/plain": [
              "<Figure size 1000x700 with 2 Axes>"
            ]
          },
          "metadata": {},
          "output_type": "display_data"
        },
        {
          "name": "stdout",
          "output_type": "stream",
          "text": [
            "\n",
            "Logistic Regression Results:\n",
            "Accuracy: 0.9135\n",
            "Precision: 0.9142\n",
            "Recall: 0.9135\n",
            "F1 Score: 0.9096\n",
            "ROC AUC: 0.9718\n",
            "              precision    recall  f1-score   support\n",
            "\n",
            "           0       0.91      0.98      0.94     12784\n",
            "           1       0.93      0.84      0.88      5289\n",
            "           2       0.91      0.53      0.67      1055\n",
            "\n",
            "    accuracy                           0.91     19128\n",
            "   macro avg       0.92      0.78      0.83     19128\n",
            "weighted avg       0.91      0.91      0.91     19128\n",
            "\n",
            "Confusion Matrix:\n",
            "[[12466   286    32]\n",
            " [  820  4449    20]\n",
            " [  433    63   559]]\n"
          ]
        },
        {
          "data": {
            "image/png": "[encoded data removed]",
            "text/plain": [
              "<Figure size 1000x700 with 2 Axes>"
            ]
          },
          "metadata": {},
          "output_type": "display_data"
        },
        {
          "name": "stderr",
          "output_type": "stream",
          "text": [
            "/usr/local/lib/python3.10/dist-packages/xgboost/core.py:158: UserWarning: [20:01:10] WARNING: /workspace/src/learner.cc:740: \n",
            "Parameters: { \"use_label_encoder\" } are not used.\n",
            "\n",
            "  warnings.warn(smsg, UserWarning)\n"
          ]
        },
        {
          "name": "stdout",
          "output_type": "stream",
          "text": [
            "\n",
            "XGBoost Results:\n",
            "Accuracy: 0.8892\n",
            "Precision: 0.8939\n",
            "Recall: 0.8892\n",
            "F1 Score: 0.8824\n",
            "ROC AUC: 0.9524\n",
            "              precision    recall  f1-score   support\n",
            "\n",
            "           0       0.87      0.98      0.92     12784\n",
            "           1       0.94      0.75      0.83      5289\n",
            "           2       0.92      0.46      0.61      1055\n",
            "\n",
            "    accuracy                           0.89     19128\n",
            "   macro avg       0.91      0.73      0.79     19128\n",
            "weighted avg       0.89      0.89      0.88     19128\n",
            "\n",
            "Confusion Matrix:\n",
            "[[12547   213    24]\n",
            " [ 1290  3980    19]\n",
            " [  519    54   482]]\n"
          ]
        },
        {
          "data": {
            "image/png": "[encoded data removed]",
            "text/plain": [
              "<Figure size 1000x700 with 2 Axes>"
            ]
          },
          "metadata": {},
          "output_type": "display_data"
        }
      ],
      "source": [
        "from sklearn.ensemble import RandomForestClassifier\n",
        "from sklearn.linear_model import LogisticRegression\n",
        "from xgboost import XGBClassifier\n",
        "from sklearn.metrics import accuracy_score, precision_score, recall_score, f1_score, roc_auc_score, classification_report, confusion_matrix\n",
        "import seaborn as sns\n",
        "import matplotlib.pyplot as plt\n",
        "\n",
        "# Define the models\n",
        "models = {\n",
        "    \"Random Forest\": RandomForestClassifier(random_state=42),\n",
        "    \"Logistic Regression\": LogisticRegression(max_iter=1000, random_state=42),\n",
        "    \"XGBoost\": XGBClassifier(use_label_encoder=False, eval_metric='mlogloss', random_state=42)\n",
        "}\n",
        "\n",
        "# Train, predict, and evaluate each model\n",
        "for model_name, model in models.items():\n",
        "    model.fit(X_train, y_train)\n",
        "    y_pred = model.predict(X_test)\n",
        "\n",
        "    accuracy = accuracy_score(y_test, y_pred)\n",
        "    precision = precision_score(y_test, y_pred, average='weighted')\n",
        "    recall = recall_score(y_test, y_pred, average='weighted')\n",
        "    f1 = f1_score(y_test, y_pred, average='weighted')\n",
        "    roc_auc = roc_auc_score(y_test, model.predict_proba(X_test), multi_class='ovr')\n",
        "\n",
        "    print(f\"\\n{model_name} Results:\")\n",
        "    print(f\"Accuracy: {accuracy:.4f}\")\n",
        "    print(f\"Precision: {precision:.4f}\")\n",
        "    print(f\"Recall: {recall:.4f}\")\n",
        "    print(f\"F1 Score: {f1:.4f}\")\n",
        "    print(f\"ROC AUC: {roc_auc:.4f}\")\n",
        "    print(classification_report(y_test, y_pred))\n",
        "\n",
        "    # Confusion Matrix\n",
        "    cm = confusion_matrix(y_test, y_pred)\n",
        "    print(f\"Confusion Matrix:\\n{cm}\")\n",
        "\n",
        "    # Plot Confusion Matrix\n",
        "    plt.figure(figsize=(10, 7))\n",
        "    sns.heatmap(cm, annot=True, fmt='d', cmap='Blues', xticklabels=model.classes_, yticklabels=model.classes_)\n",
        "    plt.xlabel('Predicted')\n",
        "    plt.ylabel('Actual')\n",
        "    plt.title(f'{model_name} Confusion Matrix')\n",
        "    plt.show()\n"
      ]
    },
    {
      "cell_type": "markdown",
      "source": [
        " -It is evident that the recall for the minority class (negative) is significantly lower across all models:\n",
        "\n",
        "-**Random Forest**: Recall for class 2 is 0.69, which is notably lower compared to class 0 (0.98) and class 1 (0.91).\n",
        "\n",
        "-**Logistic Regression**: Recall for class 2 is 0.53, which is much lower compared to class 0 (0.98) and class 1 (0.84).\n",
        "\n",
        "-**XGBoost**: Recall for class 2 is 0.46, again lower compared to class 0 (0.98) and class 1 (0.75)\n",
        "\n",
        "\n"
      ],
      "metadata": {
        "id": "5dD-9bgMV1yE"
      }
    },
    {
      "cell_type": "markdown",
      "source": [
        "-This could be due to class imbalance. To overcome this, SMOTE (Synthetic Minority Over-sampling Technique) is a good solution. SMOTE generates synthetic samples for the minority class, balancing the dataset and improving recall for the minority class."
      ],
      "metadata": {
        "id": "UCHD5fIwZ4xO"
      }
    }
  ],
  "metadata": {
    "accelerator": "GPU",
    "colab": {
      "gpuType": "T4",
      "provenance": []
    },
    "kaggle": {
      "accelerator": "gpu",
      "dataSources": [
        {
          "datasetId": 5356242,
          "sourceId": 8908222,
          "sourceType": "datasetVersion"
        },
        {
          "datasetId": 5420588,
          "sourceId": 8998732,
          "sourceType": "datasetVersion"
        }
      ],
      "dockerImageVersionId": 30746,
      "isGpuEnabled": true,
      "isInternetEnabled": true,
      "language": "python",
      "sourceType": "notebook"
    },
    "kernelspec": {
      "display_name": "Python 3",
      "name": "python3"
    },
    "language_info": {
      "codemirror_mode": {
        "name": "ipython",
        "version": 3
      },
      "file_extension": ".py",
      "mimetype": "text/x-python",
      "name": "python",
      "nbconvert_exporter": "python",
      "pygments_lexer": "ipython3",
      "version": "3.11.3"
    }
  },
  "nbformat": 4,
  "nbformat_minor": 0
}